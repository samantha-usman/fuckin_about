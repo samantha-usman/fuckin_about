{
 "cells": [
  {
   "cell_type": "code",
   "execution_count": null,
   "metadata": {},
   "outputs": [],
   "source": [
    "#New Python notebook to document planned code"
   ]
  },
  {
   "cell_type": "code",
   "execution_count": null,
   "metadata": {},
   "outputs": [],
   "source": [
    "import sys\n",
    "sys.path\n",
    "sys.path.append('/Users/samanthausman/zerk/lib/python2.7/site-packages')\n",
    "import numpy\n",
    "import lalsimulation"
   ]
  },
  {
   "cell_type": "code",
   "execution_count": null,
   "metadata": {},
   "outputs": [],
   "source": [
    "#First: to make a lensed waveform and see if it's detectable\n",
    "#Part one: generate an unlensed waveform, using lalsimulation\n",
    "#Decide which of the waveforms to use, not sure which is best, all claim to be most accurate\n",
    "\n",
    "#Part two: lens the waveform\n",
    "#Code equation (possibly equation 1 in Jung for lensed waveform, or equation 19 in Nakamura for amplification factor)\n",
    "#Challenge: *how* to code up these equations"
   ]
  },
  {
   "cell_type": "code",
   "execution_count": null,
   "metadata": {},
   "outputs": [],
   "source": [
    "#Second: download O2 template bank\n",
    "#There doesn't seem to be a public version of this available (at least I didn't see one on losc.ligo.org)\n",
    "#May need to consult Reed to find a version of O2 tempate bank\n",
    "#Alternative method: Use LIGO bank generation code to make our own. Downside: not direct comparison"
   ]
  },
  {
   "cell_type": "code",
   "execution_count": null,
   "metadata": {},
   "outputs": [],
   "source": [
    "#Third: match-filter the lensed waveform against the template bank\n",
    "#Use LIGO algorithms to compare our lensed waveform to O2 bank\n",
    "#Match-filter requires time-averaged PSD for LIGO\n",
    "#Is there a way to find this PSD or should we produce in manually using the O2 data?"
   ]
  },
  {
   "cell_type": "code",
   "execution_count": null,
   "metadata": {},
   "outputs": [],
   "source": [
    "#Three possible outcomes: the lensed waveform match-filters with high SNR against template bank, or it doesn't\n",
    "#If the former == True: Compare the unlensed waveform's parameters to the waveform recovered in bank, quantify\n",
    "#Elif the waveform picked up with low SNR: adjust lensing parameters to see if we can make one that's unrecoverable"
   ]
  },
  {
   "cell_type": "code",
   "execution_count": null,
   "metadata": {},
   "outputs": [],
   "source": [
    "#Elif the waveform isn't picked up: create template bank of lensed waveforms\n",
    "#Challenge: creating set of waveforms, many dimensions (source offset from plane, lensing mass)\n",
    "#Match-filter lensed waveform against LIGO data using PyCBC"
   ]
  }
 ],
 "metadata": {
  "kernelspec": {
   "display_name": "Python 2",
   "language": "python",
   "name": "python2"
  },
  "language_info": {
   "codemirror_mode": {
    "name": "ipython",
    "version": 2
   },
   "file_extension": ".py",
   "mimetype": "text/x-python",
   "name": "python",
   "nbconvert_exporter": "python",
   "pygments_lexer": "ipython2",
   "version": "2.7.15"
  }
 },
 "nbformat": 4,
 "nbformat_minor": 2
}
